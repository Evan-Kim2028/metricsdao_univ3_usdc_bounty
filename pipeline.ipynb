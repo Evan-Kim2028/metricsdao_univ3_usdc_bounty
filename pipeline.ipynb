{
 "cells": [
  {
   "cell_type": "code",
   "execution_count": 1,
   "metadata": {},
   "outputs": [
    {
     "data": {
      "text/plain": [
       "polars.config.Config"
      ]
     },
     "execution_count": 1,
     "metadata": {},
     "output_type": "execute_result"
    }
   ],
   "source": [
    "from queryportal.subgraphinterface import SubgraphInterface as sgi\n",
    "from datetime import datetime\n",
    "\n",
    "# polars dataframe manipulations\n",
    "import polars as pl\n",
    "pl.Config.set_fmt_str_lengths(200)"
   ]
  },
  {
   "cell_type": "code",
   "execution_count": 2,
   "metadata": {},
   "outputs": [],
   "source": [
    "endpoints = [\n",
    "    'https://api.thegraph.com/subgraphs/name/messari/uniswap-v3-ethereum',\n",
    "    'https://api.thegraph.com/subgraphs/name/messari/uniswap-v3-arbitrum',\n",
    "    # ComputeError: could not append {:?} to the builder; make sure that all rows have the same schema or consider increasing `schema_inference_length`\n",
    "    # 'https://api.thegraph.com/subgraphs/name/messari/uniswap-v3-polygon', # breaking, reason - https://github.com/pola-rs/polars/issues/4489#issuecomment-1220349624\n",
    "    # 'https://api.thegraph.com/subgraphs/name/messari/uniswap-v3-optimism', # breaking, reason - https://github.com/pola-rs/polars/issues/4489#issuecomment-1220349624\n",
    "]\n",
    "\n",
    "# instantiate univ3 class with subgraph key\n",
    "univ3 = sgi(endpoints=endpoints)"
   ]
  },
  {
   "cell_type": "code",
   "execution_count": 3,
   "metadata": {},
   "outputs": [],
   "source": [
    "query_paths = [\n",
    "    'timestamp',\n",
    "    'hash',\n",
    "    'pool_name', \n",
    "    'pool_id',\n",
    "    'account_id',\n",
    "    # 'pool_fees',\n",
    "    'gasLimit',\n",
    "    'tokenIn_symbol', \n",
    "    'tokenOut_symbol', \n",
    "    'amountOutUSD', \n",
    "    'amountInUSD',\n",
    "    'amountOut',\n",
    "    'amountIn',\n",
    "    ]\n",
    "\n",
    "filter_dict={\n",
    "    'timestamp_gte': int((datetime(2023, 4, 21).timestamp())),\n",
    "    'timestamp_lte': int(datetime(2023, 4, 28).timestamp()),\n",
    "    'tokenIn_symbol_in': ['WETH', 'USDC'],\n",
    "    'tokenOut_symbol_in': ['WETH', 'USDC'],\n",
    "    # 'pool_fees_feePercentage': 0.05 # PaginationError: [{'message': 'Store error: query execution failed: Child filters can not be nested'}]\n",
    "}\n",
    "\n",
    "query_size = 100000000"
   ]
  },
  {
   "cell_type": "code",
   "execution_count": 4,
   "metadata": {},
   "outputs": [],
   "source": [
    "df_data = []"
   ]
  },
  {
   "cell_type": "code",
   "execution_count": 5,
   "metadata": {},
   "outputs": [
    {
     "name": "stdout",
     "output_type": "stream",
     "text": [
      "subgraph_name:  uniswap-v3-arbitrum\n",
      "Subgraph endpoint: uniswap-v3-arbitrum with type <class 'subgrounds.subgraph.subgraph.Subgraph'>\n",
      "Shape: (211662, 12)\n",
      "Schema: {'timestamp': Int64, 'hash': Utf8, 'gasLimit': Int64, 'amountOutUSD': Float64, 'amountInUSD': Float64, 'amountOut': Float64, 'amountIn': Float64, 'pool_name': Utf8, 'pool_id': Utf8, 'account_id': Utf8, 'tokenIn_symbol': Utf8, 'tokenOut_symbol': Utf8}\n",
      "Function 'query_entity' executed in 1937.7882s\n"
     ]
    }
   ],
   "source": [
    "for subgraph_name in list(univ3.subject.subgraphs.keys())[1:]:\n",
    "    print('subgraph_name: ', subgraph_name)\n",
    "    df = univ3.query_entity(\n",
    "        query_size=query_size,\n",
    "        entity='swaps',\n",
    "        name=subgraph_name,\n",
    "        query_paths=query_paths,\n",
    "        filter_dict=filter_dict,\n",
    "        )\n",
    "    # add subgraph endpoint\n",
    "    df = df.with_columns(pl.lit(subgraph_name).alias('endpoint'))\n",
    "    # save dataframe to parquet file.\n",
    "    df.write_parquet(f'{subgraph_name}')\n",
    "    df_data.append(df)"
   ]
  },
  {
   "cell_type": "code",
   "execution_count": 6,
   "metadata": {},
   "outputs": [],
   "source": [
    "# CHECKPOINT - load arbitrum and ethereum parquet files\n",
    "df_arbitrum = pl.read_parquet('uniswap-v3-arbitrum')\n",
    "df_ethereum = pl.read_parquet('uniswap-v3-ethereum')\n",
    "\n",
    "# concat them into weth_usdc_df\n",
    "weth_usdc_df = pl.concat([df_arbitrum, df_ethereum])"
   ]
  },
  {
   "cell_type": "code",
   "execution_count": 7,
   "metadata": {},
   "outputs": [
    {
     "data": {
      "text/plain": [
       "(247732, 13)"
      ]
     },
     "execution_count": 7,
     "metadata": {},
     "output_type": "execute_result"
    }
   ],
   "source": [
    "weth_usdc_df.shape"
   ]
  },
  {
   "cell_type": "code",
   "execution_count": 8,
   "metadata": {},
   "outputs": [
    {
     "data": {
      "text/html": [
       "<div><style>\n",
       ".dataframe > thead > tr > th,\n",
       ".dataframe > tbody > tr > td {\n",
       "  text-align: right;\n",
       "}\n",
       "</style>\n",
       "<small>shape: (2,)</small><table border=\"1\" class=\"dataframe\"><thead><tr><th>endpoint</th></tr><tr><td>str</td></tr></thead><tbody><tr><td>&quot;uniswap-v3-ethereum&quot;</td></tr><tr><td>&quot;uniswap-v3-arbitrum&quot;</td></tr></tbody></table></div>"
      ],
      "text/plain": [
       "shape: (2,)\n",
       "Series: 'endpoint' [str]\n",
       "[\n",
       "\t\"uniswap-v3-ethereum\"\n",
       "\t\"uniswap-v3-arbitrum\"\n",
       "]"
      ]
     },
     "execution_count": 8,
     "metadata": {},
     "output_type": "execute_result"
    }
   ],
   "source": [
    "weth_usdc_df['endpoint'].unique()"
   ]
  },
  {
   "cell_type": "code",
   "execution_count": 9,
   "metadata": {},
   "outputs": [],
   "source": [
    "# convert timestamp to datetime\n",
    "weth_usdc_df = weth_usdc_df.with_columns(\n",
    "       pl.from_epoch(\"timestamp\")\n",
    "   )"
   ]
  },
  {
   "cell_type": "code",
   "execution_count": 10,
   "metadata": {},
   "outputs": [
    {
     "data": {
      "text/html": [
       "<div><style>\n",
       ".dataframe > thead > tr > th,\n",
       ".dataframe > tbody > tr > td {\n",
       "  text-align: right;\n",
       "}\n",
       "</style>\n",
       "<small>shape: (10, 2)</small><table border=\"1\" class=\"dataframe\"><thead><tr><th>pool_name</th><th>endpoint</th></tr><tr><td>str</td><td>str</td></tr></thead><tbody><tr><td>&quot;Uniswap V3 WETH/USDC 0.01%&quot;</td><td>&quot;uniswap-v3-arbitrum&quot;</td></tr><tr><td>&quot;Uniswap V3 WETH/USDC 0.3%&quot;</td><td>&quot;uniswap-v3-arbitrum&quot;</td></tr><tr><td>&quot;Uniswap V3 WETH/USDC 1%&quot;</td><td>&quot;uniswap-v3-arbitrum&quot;</td></tr><tr><td>&quot;Uniswap V3 USD Coin/Wrapped Ether 0.3%&quot;</td><td>&quot;uniswap-v3-ethereum&quot;</td></tr><tr><td>&quot;Uniswap V3 WETH/Wrapped Ether 1%&quot;</td><td>&quot;uniswap-v3-arbitrum&quot;</td></tr><tr><td>&quot;Uniswap V3 WETH/USDC 0.05%&quot;</td><td>&quot;uniswap-v3-arbitrum&quot;</td></tr><tr><td>&quot;Uniswap V3 USD Coin/Wrapped Ether 0.05%&quot;</td><td>&quot;uniswap-v3-ethereum&quot;</td></tr><tr><td>&quot;Uniswap V3 USD Coin/Wrapped Ether 0.01%&quot;</td><td>&quot;uniswap-v3-ethereum&quot;</td></tr><tr><td>&quot;Uniswap V3 USD Coin/Wrapped Ether 1%&quot;</td><td>&quot;uniswap-v3-ethereum&quot;</td></tr><tr><td>&quot;Uniswap V3 USD Coin (PoS) (Wormhole)/USD Coin 0.01%&quot;</td><td>&quot;uniswap-v3-ethereum&quot;</td></tr></tbody></table></div>"
      ],
      "text/plain": [
       "shape: (10, 2)\n",
       "┌─────────────────────────────────────────────────────┬─────────────────────┐\n",
       "│ pool_name                                           ┆ endpoint            │\n",
       "│ ---                                                 ┆ ---                 │\n",
       "│ str                                                 ┆ str                 │\n",
       "╞═════════════════════════════════════════════════════╪═════════════════════╡\n",
       "│ Uniswap V3 WETH/USDC 0.01%                          ┆ uniswap-v3-arbitrum │\n",
       "│ Uniswap V3 WETH/USDC 0.3%                           ┆ uniswap-v3-arbitrum │\n",
       "│ Uniswap V3 WETH/USDC 1%                             ┆ uniswap-v3-arbitrum │\n",
       "│ Uniswap V3 USD Coin/Wrapped Ether 0.3%              ┆ uniswap-v3-ethereum │\n",
       "│ …                                                   ┆ …                   │\n",
       "│ Uniswap V3 USD Coin/Wrapped Ether 0.05%             ┆ uniswap-v3-ethereum │\n",
       "│ Uniswap V3 USD Coin/Wrapped Ether 0.01%             ┆ uniswap-v3-ethereum │\n",
       "│ Uniswap V3 USD Coin/Wrapped Ether 1%                ┆ uniswap-v3-ethereum │\n",
       "│ Uniswap V3 USD Coin (PoS) (Wormhole)/USD Coin 0.01% ┆ uniswap-v3-ethereum │\n",
       "└─────────────────────────────────────────────────────┴─────────────────────┘"
      ]
     },
     "execution_count": 10,
     "metadata": {},
     "output_type": "execute_result"
    }
   ],
   "source": [
    "# All the pools in the data\n",
    "weth_usdc_df[['pool_name', 'endpoint']].unique()\n",
    "\n",
    "# use this to check tokens\n",
    "# weth_usdc_df[['pool_name', 'tokenIn_symbol', 'tokenOut_symbol', 'endpoint']].unique()"
   ]
  },
  {
   "cell_type": "code",
   "execution_count": 11,
   "metadata": {},
   "outputs": [],
   "source": [
    "# # drop columns when tokenIn_symbol = 'WETH' and tokenOut_symbol = 'WETH'\n",
    "# filtered_sample = weth_usdc_df.filter((pl.col(\"tokenIn_symbol\") == 'WETH') & (pl.col(\"tokenOut_symbol\") == 'WETH'))\n",
    "# filtered_sample.filter(pl.col('pool_name') == \"Uniswap V3 Wrapped Ether (Wormhole)/Wrapped Ether 0.05%\")"
   ]
  },
  {
   "cell_type": "code",
   "execution_count": 12,
   "metadata": {},
   "outputs": [],
   "source": [
    "# change timestamp into daily with this code pl.from_epoch(weth_usdc_df[\"timestamp\"], time_unit=\"d\")\n",
    "weth_usdc_df = weth_usdc_df.with_columns(pl.from_epoch(weth_usdc_df[\"timestamp\"], time_unit=\"d\").alias('timestamp'))"
   ]
  },
  {
   "cell_type": "code",
   "execution_count": 13,
   "metadata": {},
   "outputs": [],
   "source": [
    "# save dataframe to parquet file.\n",
    "weth_usdc_df.write_parquet('weth_usdc_df')"
   ]
  }
 ],
 "metadata": {
  "kernelspec": {
   "display_name": ".venv",
   "language": "python",
   "name": "python3"
  },
  "language_info": {
   "codemirror_mode": {
    "name": "ipython",
    "version": 3
   },
   "file_extension": ".py",
   "mimetype": "text/x-python",
   "name": "python",
   "nbconvert_exporter": "python",
   "pygments_lexer": "ipython3",
   "version": "3.10.6"
  },
  "orig_nbformat": 4
 },
 "nbformat": 4,
 "nbformat_minor": 2
}
